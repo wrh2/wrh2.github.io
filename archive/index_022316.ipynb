{
 "metadata": {
  "name": "",
  "signature": "sha256:e76dd93d1cd9e706b7e453b2d9d4243bf59c52b2c31ac34d54b731dfb63baf1a"
 },
 "nbformat": 3,
 "nbformat_minor": 0,
 "worksheets": [
  {
   "cells": [
    {
     "cell_type": "markdown",
     "metadata": {},
     "source": [
      "# Simulating hardware with MyHDL\n",
      "\n",
      "by [William Harrington](https://github.com/wrh2)\n",
      "\n",
      "Feb 23, 2016\n",
      "\n",
      "## Introduction\n",
      "\n",
      "Something I've been getting asked about a lot lately is hardware simulation in python. I had a recent article on the iOS backdoor and in it I did a bogus iOS device simulation just to illustrate a point.\n",
      "\n",
      "The simulation was not really accurate in modeling hardware and I stated this. It was just about conveying what could potentially be done should an iOS backdoor exist. Naturally, I received questions/complaints about this. One of the questions was how would you simulate hardware in python? \n",
      "\n",
      "The answer is [MyHDL](http://myhdl.org). As a lover of the python programming language, I felt compelled to demonstrate its ability to simulate hardware using the MyHDL library. What I've put together below is a simple simulation for a 1-bit full-adder.\n",
      "\n",
      "### 1-bit Full Adder Schematic\n",
      "\n",
      "Below is a schematic of a 1-bit full adder from this wikipedia article: https://en.wikipedia.org/wiki/Adder_(electronics)\n",
      "\n",
      "![](Full-adder_logic_diagram.svg)\n",
      "\n",
      "### 1-bit Full Adder Truth Table\n",
      "\n",
      "Below is the truth table for the schematic.\n",
      "\n",
      "| Carry-in | A | B | Sum | Carry-out|\n",
      "| --- | - | - | - | --- |\n",
      "| 0   | 0 | 0 | 0 | 0   |\n",
      "| 0   | 0 | 1 | 1 | 0   |\n",
      "| 0   | 1 | 0 | 1 | 0   |\n",
      "| 0   | 1 | 1 | 0 | 1   |\n",
      "| 1   | 0 | 0 | 1 | 0   |\n",
      "| 1   | 0 | 1 | 0 | 1   |\n",
      "| 1   | 1 | 0 | 0 | 1   |\n",
      "| 1   | 1 | 1 | 1 | 1   |\n"
     ]
    },
    {
     "cell_type": "markdown",
     "metadata": {},
     "source": [
      "## 1-bit Full Adder Implementation"
     ]
    },
    {
     "cell_type": "code",
     "collapsed": false,
     "input": [
      "\"\"\"                                                                                                                                                                          \n",
      "        1-bit full adder simulation with MyHDL                                                                                                                               \n",
      "                                                                                                                                                                             \n",
      "        Programmed by William Harrington                                                                                                                                     \n",
      "        Website: wrh2.github.io\n",
      "\"\"\"\n",
      "from random import randrange\n",
      "from myhdl import *\n",
      "\n",
      "def adder(cin, a, b, s, cout):\n",
      "    \"\"\" 1-bit full adder \"\"\"\n",
      "\n",
      "    # for declaring combinatorial logic\n",
      "    # returns a generator that is sensitive\n",
      "    # to all inputs, and that executes\n",
      "    # the function whenever an input changes\n",
      "    @always_comb\n",
      "    def full_adder():\n",
      "        \n",
      "        # the sum bit logic\n",
      "        s.next = a ^ b ^ cin\n",
      "\n",
      "        # the carry-out bit logic\n",
      "        cout.next = (a & b) | (cin & (a ^ b))\n",
      "\n",
      "    # important note: this is a recursive call\n",
      "    return full_adder"
     ],
     "language": "python",
     "metadata": {},
     "outputs": [],
     "prompt_number": 19
    },
    {
     "cell_type": "markdown",
     "metadata": {},
     "source": [
      "## Instantiation"
     ]
    },
    {
     "cell_type": "code",
     "collapsed": false,
     "input": [
      "# creating initial signals                                                                                                                                 \n",
      "cin, a, b, s, cout = [Signal(intbv(0)) for i in range(5)]\n",
      "\n",
      "# instantiating 1-bit full adder\n",
      "add_1 = adder(cin, a, b, s, cout)"
     ],
     "language": "python",
     "metadata": {},
     "outputs": [],
     "prompt_number": 20
    },
    {
     "cell_type": "markdown",
     "metadata": {},
     "source": [
      "## Test bench"
     ]
    },
    {
     "cell_type": "code",
     "collapsed": false,
     "input": [
      "def test():\n",
      "\n",
      "    # format for results                                                                                                                                                     \n",
      "    print \"| t(ns) | cin | a | b | s | cout|\"\n",
      "    print \"| ----- | --- | - | - | - | --- |\"\n",
      "\n",
      "    for i in range(2):\n",
      "        for j in range(2):\n",
      "            for k in range(2):\n",
      "\n",
      "                # change the signals\n",
      "                # iterate through 0 to 7 in binary                                                                                                                           \n",
      "                cin.next, a.next, b.next = i, j, k\n",
      "\n",
      "                # prop delay                                                                                                                                                 \n",
      "                yield delay(10)\n",
      "\n",
      "                # results                                                                                                                                                    \n",
      "                print \"| %s    | %s   | %s | %s | %s | %s   |\" % (now(), cin, a, b, s, cout)"
     ],
     "language": "python",
     "metadata": {},
     "outputs": [],
     "prompt_number": 21
    },
    {
     "cell_type": "markdown",
     "metadata": {},
     "source": [
      "### Running the test bench"
     ]
    },
    {
     "cell_type": "code",
     "collapsed": false,
     "input": [
      "test_1 = test()\n",
      "sim = Simulation(add_1, test_1).run()"
     ],
     "language": "python",
     "metadata": {},
     "outputs": [
      {
       "output_type": "stream",
       "stream": "stdout",
       "text": [
        "| t(ns) | cin | a | b | s | cout|\n",
        "| ----- | --- | - | - | - | --- |\n",
        "| 10    | 0   | 0 | 0 | 0 | 0   |\n",
        "| 20    | 0   | 0 | 1 | 1 | 0   |\n",
        "| 30    | 0   | 1 | 0 | 1 | 0   |\n",
        "| 40    | 0   | 1 | 1 | 0 | 1   |\n",
        "| 50    | 1   | 0 | 0 | 1 | 0   |\n",
        "| 60    | 1   | 0 | 1 | 0 | 1   |\n",
        "| 70    | 1   | 1 | 0 | 0 | 1   |\n",
        "| 80    | 1   | 1 | 1 | 1 | 1   |\n"
       ]
      },
      {
       "output_type": "stream",
       "stream": "stderr",
       "text": [
        "<class 'myhdl.StopSimulation'>: No more events\n"
       ]
      }
     ],
     "prompt_number": 22
    },
    {
     "cell_type": "markdown",
     "metadata": {},
     "source": [
      "### Addendum\n",
      "\n",
      "Mar 14, 2016\n",
      "\n",
      "MyHDL offers a plethora of powerful features that I neglected to mention. In this section, I am going to cover how to modify the testbench above so that we can view waveforms and how to convert the code to Verilog (another Hardware Description Language)! Two of my favorite features from MyHDL. Viewing waveforms is much better for me sometimes when trying to understand whats going on with my simulation, and I hate coding in Verilog so needless to say I use these a lot."
     ]
    },
    {
     "cell_type": "markdown",
     "metadata": {},
     "source": [
      "#### New testbench"
     ]
    },
    {
     "cell_type": "code",
     "collapsed": false,
     "input": [
      "def fulladd_testbench():\n",
      "        cin, a, b, s, cout = [Signal(intbv(0)[1:]) for i in range(5)]\n",
      "        adder_inst = adder(cin, a, b, s, cout)\n",
      "        prop_delay = 10\n",
      "\n",
      "        @instance\n",
      "        def stimulus():\n",
      "                for i in range(2):\n",
      "                        for j in range(2):\n",
      "                                for k in range(2):\n",
      "                                        yield delay(prop_delay)\n",
      "                                        cin.next, a.next, b.next = i, j, k\n",
      "        return instances()"
     ],
     "language": "python",
     "metadata": {},
     "outputs": [],
     "prompt_number": 23
    },
    {
     "cell_type": "markdown",
     "metadata": {},
     "source": [
      "There is really not much new here except that I've created some semblance of a hierarchy by instantiating the adder in the function for the testbench, and I am using a decorator for the stimulus function. The stimulus function is a \"generator\" that generates inputs for the adder. The adder is sensitive to the change of its inputs and a new result comes out when they change."
     ]
    },
    {
     "cell_type": "markdown",
     "metadata": {},
     "source": [
      "#### Generating the waveforms"
     ]
    },
    {
     "cell_type": "code",
     "collapsed": false,
     "input": [
      "def simulate():\n",
      "        tb = traceSignals(fulladd_testbench)\n",
      "        sim = Simulation(tb)\n",
      "        sim.run()\n",
      "\n",
      "simulate()"
     ],
     "language": "python",
     "metadata": {},
     "outputs": [
      {
       "output_type": "stream",
       "stream": "stderr",
       "text": [
        "<class 'myhdl.StopSimulation'>: No more events\n"
       ]
      }
     ],
     "prompt_number": 24
    },
    {
     "cell_type": "markdown",
     "metadata": {},
     "source": [
      "MyHDL has this handy function called [traceSignals](http://docs.myhdl.org/en/stable/manual/reference.html?highlight=tracesignals#myhdl.traceSignals) that does some programming magic to generate a [\"Value Change Dump\"](https://en.wikipedia.org/wiki/Value_change_dump) file. This file has a .vcd extension and can be viewed with a waveform viewer like [gtkwave](http://gtkwave.sourceforge.net/). Notice that the output printed only tells me the simulation has ended. I could have placed an output monitor in my testbench to get the same table as I did before however we are going to look at the waveforms below so this isn't necessary this time, but for you when you are using this tool it might be good to have for debugging purposes."
     ]
    },
    {
     "cell_type": "markdown",
     "metadata": {},
     "source": [
      "![Waveform output of simulation](./waveform.png)"
     ]
    },
    {
     "cell_type": "markdown",
     "metadata": {},
     "source": [
      "#### Getting Verilog code from your MyHDL code"
     ]
    },
    {
     "cell_type": "markdown",
     "metadata": {},
     "source": [
      "MyHDL has another handy function called [toVerilog](http://docs.myhdl.org/en/stable/manual/reference.html?highlight=toverilog#myhdl.toVerilog) that we will employ to accomplish this task."
     ]
    },
    {
     "cell_type": "code",
     "collapsed": false,
     "input": [
      "cin, a, b, s, cout = [Signal(intbv(0)[1:]) for i in range(5)]\n",
      "toVerilog(adder, cin, a, b, s, cout)"
     ],
     "language": "python",
     "metadata": {},
     "outputs": [
      {
       "metadata": {},
       "output_type": "pyout",
       "prompt_number": 25,
       "text": [
        "<myhdl._always_comb._AlwaysComb at 0x104b51450>"
       ]
      }
     ],
     "prompt_number": 25
    },
    {
     "cell_type": "markdown",
     "metadata": {},
     "source": [
      "And now behold the magic of MyHDL below!"
     ]
    },
    {
     "cell_type": "code",
     "collapsed": false,
     "input": [
      "// File: adder.v\n",
      "// Generated by MyHDL 0.9.0\n",
      "// Date: Mon Mar 14 19:53:13 2016\n",
      "\n",
      "\n",
      "`timescale 1ns/10ps\n",
      "\n",
      "module adder (\n",
      "    cin,\n",
      "    a,\n",
      "    b,\n",
      "    s,\n",
      "    cout\n",
      ");\n",
      "// 1-bit full adder\n",
      "\n",
      "input [0:0] cin;\n",
      "input [0:0] a;\n",
      "input [0:0] b;\n",
      "output [0:0] s;\n",
      "wire [0:0] s;\n",
      "\n",
      "assign s = ((a ^ b) ^ cin);\n",
      "assign cout = ((a & b) | (cin & (a ^ b)));\n",
      "\n",
      "endmodule"
     ],
     "language": "python",
     "metadata": {},
     "outputs": []
    },
    {
     "cell_type": "markdown",
     "metadata": {},
     "source": [
      "It even makes the testbench for you!"
     ]
    },
    {
     "cell_type": "code",
     "collapsed": false,
     "input": [
      "module tb_adder;\n",
      "\n",
      "reg [0:0] cin;\n",
      "reg [0:0] a;\n",
      "reg [0:0] b;\n",
      "wire [0:0] s;\n",
      "wire [0:0] cout;\n",
      "\n",
      "initial begin\n",
      "    $from_myhdl(\n",
      "        cin,\n",
      "        a,\n",
      "        b\n",
      "    );\n",
      "    $to_myhdl(\n",
      "        s,\n",
      "        cout\n",
      "    );\n",
      "end\n",
      "\n",
      "adder dut(\n",
      "    cin,\n",
      "    a,\n",
      "    b,\n",
      "    s,\n",
      "    cout\n",
      ");\n",
      "\n",
      "endmodule"
     ],
     "language": "python",
     "metadata": {},
     "outputs": []
    }
   ],
   "metadata": {}
  }
 ]
}